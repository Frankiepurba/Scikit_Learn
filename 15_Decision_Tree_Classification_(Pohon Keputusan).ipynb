{
 "cells": [
  {
   "cell_type": "markdown",
   "metadata": {
    "slideshow": {
     "slide_type": "slide"
    }
   },
   "source": [
    "# Classification Task dengan Decision Tree\n",
    "\n",
    "**`Decision Tree`** atau induksi pohon keputusan adalah salah satu pendekatan pemodelan prediktif yang digunakan dalam statistik, penambangan data, dan pembelajaran mesin. Ini menggunakan Decision Tree (sebagai model prediktif) untuk berangkat dari pengamatan tentang suatu item (diwakili dalam cabang ) untuk kesimpulan tentang nilai target item (diwakili dalam daun). Model pohon di mana variabel target dapat mengambil satu set nilai diskrit disebut pohon klasifikasi; dalam struktur pohon ini, daun mewakili label kelas dan cabang mewakili konjungsi fitur yang mengarah ke label kelas tersebut. Decision Tree di mana variabel target dapat mengambil nilai kontinu (biasanya bilangan real) disebut pohon regresi. Decision Tree adalah salah satu algoritma pembelajaran mesin paling populer karena kejelasan dan kesederhanaannya.\n",
    "\n",
    "Referensi: [https://en.wikipedia.org/wiki/Decision_tree_learning](https://en.wikipedia.org/wiki/Decision_tree_learning)"
   ]
  },
  {
   "cell_type": "markdown",
   "metadata": {
    "slideshow": {
     "slide_type": "slide"
    }
   },
   "source": [
    "## Konsep Dasar\n",
    "\n",
    "Berikut adalah konsep dasar yang dapat memahami mekanisme kerja daripada `Decision Tree` yang menerapkan struktur pohon seperti pada contoh meme yang pernah beredar dibawah ini.\n",
    "\n",
    "### Terminology: root node, internal node, leaf node\n",
    "\n",
    "Berdasarkan dari gambar dibawah ini kita akan bertanya-tanya mengapa gambar tersebut dikatakan struktur pohon padahal gambar tersebut sangatlah jauh dari pohon. Struktur pohon pada gambar memang tampak tidak jelas karena gambar tersebut terlihat struktur pohon terbalik, berikut adalah beberapa komponen dari `Decision Tree`.\n",
    "\n",
    "- `Root Node` sebagai akar pada posisi paling atas\n",
    "- `Internal Node` sebagai posisi yang berada antara `Root` dan `Leaf` Node\n",
    "- `Leaf Node` sebagai posisi paling bawah \n",
    "\n",
    "<div>\n",
    "<img src=\"./images/decision_tree_example.png\" width=\"600\">\n",
    "</div>"
   ]
  },
  {
   "cell_type": "markdown",
   "metadata": {
    "slideshow": {
     "slide_type": "slide"
    }
   },
   "source": [
    "## Gini Impurity\n",
    "\n",
    "Pada tahap ini kita akan membahas tentang `Impurity Measure` atau pengukuran ketidakmurnian. Pada kasus ini kita menggunakan **CART (Classification And Regression Tree)** yang merupakan default algorithms yang diterapkan oleh scikit learn sebagai implementasi dari Decision Tree, oleh karena itu kita perlu untuk mempelajari dari `Gini Impurity` yang memiliki nilai sebagai berikut :\n",
    "- **0** sebagai nilai yang sempurna\n",
    "- **1** sebagai nilai yang tidak murni/impurity\n",
    "\n",
    "Berdasarkan dari gambar dibawah ini terdapat 10 data poin yang terbagi antara dua class yaitu class biru dan hijau dalam 2 buah ruas kiri dan kanan yang dipisahkan oleh garis putus-putus (splitter)\n",
    "\n",
    "<div>\n",
    "    <img src=\"./images/gini_example.png\" width=\"400\">\n",
    "</div>\n",
    "\n",
    "\n",
    "#### Ruas Kiri:\n",
    "\n",
    "$\n",
    "\\begin{align*} \n",
    "G &= 1 - \\sum_i^n P_i^2 \\\\\n",
    "  &= 1 - P(biru)^2 \\\\\n",
    "  &= 1 - (\\frac{4}{4})^2 = 0\n",
    "\\end{align*}\n",
    "$\n",
    "\n",
    "#### Ruas Kanan:\n",
    "\n",
    "$\n",
    "\\begin{align*}\n",
    "G &= 1 - \\sum_i^n P_i^2 \\\\\n",
    "  &= 1 - (P(biru)^2 + P(hijau)^2)\\\\\n",
    "  &= 1 - ( (\\frac{1}{6})^2 + (\\frac{5}{6})^2 ) = 0.278\n",
    "\\end{align*}\n",
    "$\n",
    "\n",
    "\n",
    "#### Average Gini Impurity:\n",
    "\n",
    "$\n",
    "\\begin{align*}\n",
    "G &= \\frac{4}{4+6} \\times 0 + \\frac{6}{4+6} \\times  0.278 \\\\\n",
    "  &= 0.1668\n",
    "\\end{align*}\n",
    "$"
   ]
  },
  {
   "cell_type": "markdown",
   "metadata": {
    "slideshow": {
     "slide_type": "subslide"
    }
   },
   "source": [
    "### Information Gain\n",
    "\n",
    "Pada kasus ini kita dapat melihat beberapa perbedaan seperti pada `Gini Impurity` memiliki nilai **0.6779** sebelum dilakukan proses splitting, kemudian `Average Gini Impurity` memiliki nilai **0.1668** setelah dilakukan proses splitting. Selanjutnya setelah kita mengetahui dari kedua nilai tersebut kita dapat mengkalkulasikan nilai dari `Imformation Gain` yaitu dengan melakukan proses perselisihan antara nilai `Gini Impurity` dan `Average Gini Impurity` seperti gambar dibawah ini.\n",
    "\n",
    "<div>\n",
    "    <img src=\"./images/information_gain.png\" width=\"500\">\n",
    "</div>"
   ]
  },
  {
   "cell_type": "markdown",
   "metadata": {
    "slideshow": {
     "slide_type": "subslide"
    }
   },
   "source": [
    "### Membangun Decision Tree\n",
    "\n",
    "Pada tahap selanjutnya yaitu tahap `Membangun Decision Tree` yang menjelaskan sebagai berikut.\n",
    "\n",
    "<div>\n",
    "    <img src=\"./images/build_decision_tree.png\" width=\"900\">\n",
    "</div>\n",
    "\n",
    "$\n",
    "\\begin{align*} \n",
    "G &= 1 - (P(apple)^2 + P(grape)^2 + P(lemon)^2) \\\\\n",
    "   &=1 - ( (\\frac{2}{5})^2 + (\\frac{2}{5})^2 + (\\frac{1}{5})^2 ) \\\\\n",
    "   &= 0.63\n",
    "\\end{align*}    \n",
    "$"
   ]
  },
  {
   "cell_type": "code",
   "execution_count": 1,
   "metadata": {
    "slideshow": {
     "slide_type": "skip"
    }
   },
   "outputs": [
    {
     "data": {
      "text/plain": [
       "0.6399999999999999"
      ]
     },
     "execution_count": 1,
     "metadata": {},
     "output_type": "execute_result"
    }
   ],
   "source": [
    "1 - ( (2/5)**2 + (2/5)**2 + (1/5)**2 )"
   ]
  },
  {
   "cell_type": "code",
   "execution_count": 2,
   "metadata": {
    "slideshow": {
     "slide_type": "skip"
    }
   },
   "outputs": [
    {
     "data": {
      "text/html": [
       "<div>\n",
       "<style scoped>\n",
       "    .dataframe tbody tr th:only-of-type {\n",
       "        vertical-align: middle;\n",
       "    }\n",
       "\n",
       "    .dataframe tbody tr th {\n",
       "        vertical-align: top;\n",
       "    }\n",
       "\n",
       "    .dataframe thead th {\n",
       "        text-align: right;\n",
       "    }\n",
       "</style>\n",
       "<table border=\"1\" class=\"dataframe\">\n",
       "  <thead>\n",
       "    <tr style=\"text-align: right;\">\n",
       "      <th></th>\n",
       "      <th>Color</th>\n",
       "      <th>Diameter</th>\n",
       "      <th>Label</th>\n",
       "    </tr>\n",
       "  </thead>\n",
       "  <tbody>\n",
       "    <tr>\n",
       "      <th>0</th>\n",
       "      <td>Green</td>\n",
       "      <td>3</td>\n",
       "      <td>Apple</td>\n",
       "    </tr>\n",
       "    <tr>\n",
       "      <th>1</th>\n",
       "      <td>Yellow</td>\n",
       "      <td>3</td>\n",
       "      <td>Apple</td>\n",
       "    </tr>\n",
       "    <tr>\n",
       "      <th>2</th>\n",
       "      <td>Red</td>\n",
       "      <td>1</td>\n",
       "      <td>Grape</td>\n",
       "    </tr>\n",
       "    <tr>\n",
       "      <th>3</th>\n",
       "      <td>Red</td>\n",
       "      <td>1</td>\n",
       "      <td>Grape</td>\n",
       "    </tr>\n",
       "    <tr>\n",
       "      <th>4</th>\n",
       "      <td>Yellow</td>\n",
       "      <td>3</td>\n",
       "      <td>Lemon</td>\n",
       "    </tr>\n",
       "  </tbody>\n",
       "</table>\n",
       "</div>"
      ],
      "text/plain": [
       "    Color  Diameter  Label\n",
       "0   Green         3  Apple\n",
       "1  Yellow         3  Apple\n",
       "2     Red         1  Grape\n",
       "3     Red         1  Grape\n",
       "4  Yellow         3  Lemon"
      ]
     },
     "execution_count": 2,
     "metadata": {},
     "output_type": "execute_result"
    }
   ],
   "source": [
    "import pandas as pd\n",
    "\n",
    "training_data = [\n",
    "    ['Green', 3, 'Apple'],\n",
    "    ['Yellow', 3, 'Apple'],\n",
    "    ['Red', 1, 'Grape'],\n",
    "    ['Red', 1, 'Grape'],\n",
    "    ['Yellow', 3, 'Lemon'],\n",
    "]\n",
    "\n",
    "# Column labels.\n",
    "# These are used only to print the tree.\n",
    "header = [\"Color\", \"Diameter\", \"Label\"]\n",
    "\n",
    "pd.DataFrame(training_data, columns=header)"
   ]
  },
  {
   "cell_type": "markdown",
   "metadata": {
    "slideshow": {
     "slide_type": "slide"
    }
   },
   "source": [
    "## Dataset\n",
    "\n",
    "**`Iris flower data set`** atau `Fisher's Iris data set` adalah kumpulan data multivariat yang diperkenalkan oleh ahli statistik, eugenicist, dan biologi Inggris Ronald Fisher dalam makalahnya tahun 1936 The use of multiple measurement in taxonomic problem sebagai contoh analisis diskriminan linier. Kadang-kadang disebut kumpulan data Iris Anderson karena Edgar Anderson mengumpulkan data untuk mengukur variasi morfologi bunga Iris dari tiga spesies terkait. Dua dari tiga spesies dikumpulkan di Semenanjung Gaspé \"semuanya dari padang rumput yang sama, dan dipetik di tempat yang sama. hari dan diukur pada waktu yang sama oleh orang yang sama dengan alat yang sama”\n",
    "\n",
    "Referensi: [https://en.wikipedia.org/wiki/Iris_flower_data_set](https://en.wikipedia.org/wiki/Iris_flower_data_set)"
   ]
  },
  {
   "cell_type": "markdown",
   "metadata": {
    "slideshow": {
     "slide_type": "slide"
    }
   },
   "source": [
    "Pada tahap selanjutnya pertama-tama kita lakukan import module `from sklearn.datasets import load_iris` dengan memanggil `load_iris(return_X_y=True)` yang ditampung ke dalam variabel `X` dan `y`. Kemudian melakukan Dimensi pada Feature dengan `X.shape` lalu pada class melakukan `{set(y)}` seperti script dibawah ini."
   ]
  },
  {
   "cell_type": "code",
   "execution_count": 3,
   "metadata": {},
   "outputs": [
    {
     "name": "stdout",
     "output_type": "stream",
     "text": [
      "Dimensi Feature: (150, 4)\n",
      "Class: {0, 1, 2}\n"
     ]
    }
   ],
   "source": [
    "from sklearn.datasets import load_iris\n",
    "\n",
    "X, y = load_iris(return_X_y=True)\n",
    "\n",
    "print(f'Dimensi Feature: {X.shape}')\n",
    "print(f'Class: {set(y)}')"
   ]
  },
  {
   "cell_type": "markdown",
   "metadata": {
    "slideshow": {
     "slide_type": "slide"
    }
   },
   "source": [
    "Untuk melakukan train_test_split terlebih dahulu melakukan import module `from sklearn.model_selection import train_test_split` kemudian menampung ke dalam 4 variabel yaitu `X_train`, `X_test`, `y_train`, `y_test ` lalu memanggil `train_test_split` yang memiliki 4 parameter yaitu :\n",
    "\n",
    "- `X`\n",
    "- `y`\n",
    "- `test_size=0.3` sebagai 30% testing set\n",
    "- `random_state=0`"
   ]
  },
  {
   "cell_type": "code",
   "execution_count": 4,
   "metadata": {},
   "outputs": [],
   "source": [
    "from sklearn.model_selection import train_test_split\n",
    "\n",
    "X_train, X_test, y_train, y_test = train_test_split(X,\n",
    "                                                    y,\n",
    "                                                    test_size=0.3,\n",
    "                                                    random_state=0)"
   ]
  },
  {
   "cell_type": "markdown",
   "metadata": {
    "slideshow": {
     "slide_type": "slide"
    }
   },
   "source": [
    "## Classification dengan `DecisionTreeClassifier`\n",
    "\n",
    "Pada tahap ini untuk melakukan `Classification dengan DecisionTreeClassifier` terlebih dahulu melakukan import module `from sklearn.tree import DecisionTreeClassifier` kemudian memanggil `DecisionTreeClassifier(max_depth=4)` max_depth memiliki kedalam atau nilai 4 layer yang ditampung ke dalam variabel `model` lalu melakukan fit pada model yang memiliki parameter X_train dan y_train `model.fit(X_train, y_train)`."
   ]
  },
  {
   "cell_type": "code",
   "execution_count": 5,
   "metadata": {},
   "outputs": [
    {
     "data": {
      "text/plain": [
       "DecisionTreeClassifier(max_depth=4)"
      ]
     },
     "execution_count": 5,
     "metadata": {},
     "output_type": "execute_result"
    }
   ],
   "source": [
    "from sklearn.tree import DecisionTreeClassifier\n",
    "\n",
    "model = DecisionTreeClassifier(max_depth=4)\n",
    "\n",
    "model.fit(X_train, y_train)"
   ]
  },
  {
   "cell_type": "markdown",
   "metadata": {
    "slideshow": {
     "slide_type": "slide"
    }
   },
   "source": [
    "## Visualisasi Model\n",
    "\n",
    "Untuk melakukan `Visualisasi Model` pertama-tama melakukan import module dengan `import matplotlib.pyplot as plt` dan `from sklearn import tree` selanjutnya kita akan mengatur `dpi figure` yang bernilai **85** `plt.rcParams['figure.dpi'] = 85`. Berikut kita akan siapkan figurenya dengan parameter **10, 10** `plt.subplots(figsize=(10, 10))`. Kemudian untuk melakukan Decision Tree kita dapat memanggil `tree.plot_tree(model, fontsize=10)` seperti script dibawah ini."
   ]
  },
  {
   "cell_type": "code",
   "execution_count": 6,
   "metadata": {},
   "outputs": [
    {
     "data": {
      "image/png": "[encoded data removed]",
      "text/plain": [
       "<Figure size 850x850 with 1 Axes>"
      ]
     },
     "metadata": {
      "needs_background": "light"
     },
     "output_type": "display_data"
    }
   ],
   "source": [
    "import matplotlib.pyplot as plt\n",
    "from sklearn import tree\n",
    "\n",
    "plt.rcParams['figure.dpi'] = 85\n",
    "plt.subplots(figsize=(10, 10))\n",
    "tree.plot_tree(model, fontsize=10)\n",
    "plt.show()"
   ]
  },
  {
   "cell_type": "markdown",
   "metadata": {
    "slideshow": {
     "slide_type": "slide"
    }
   },
   "source": [
    "## Evaluasi Model\n",
    "\n",
    "Pada kasus ini kita dapat melakukan `Evaluasi Model` yang memanfaatkan Classification Report dengan terlebih dahulu kita melakukan import module `from sklearn.metrics import classification_report` kemudian melakukan prediksi model dengan memanggil `model.predict(X_test)` yang ditampung ke dalam variabel `y_pred` selanjutnya kita dapat mencetak ke layar dengan `print(classification_report(y_test, y_pred))`."
   ]
  },
  {
   "cell_type": "code",
   "execution_count": 7,
   "metadata": {},
   "outputs": [
    {
     "name": "stdout",
     "output_type": "stream",
     "text": [
      "              precision    recall  f1-score   support\n",
      "\n",
      "           0       1.00      1.00      1.00        16\n",
      "           1       1.00      0.94      0.97        18\n",
      "           2       0.92      1.00      0.96        11\n",
      "\n",
      "    accuracy                           0.98        45\n",
      "   macro avg       0.97      0.98      0.98        45\n",
      "weighted avg       0.98      0.98      0.98        45\n",
      "\n"
     ]
    }
   ],
   "source": [
    "from sklearn.metrics import classification_report\n",
    "\n",
    "y_pred = model.predict(X_test)\n",
    "\n",
    "print(classification_report(y_test, y_pred))"
   ]
  }
 ],
 "metadata": {
  "celltoolbar": "Slideshow",
  "kernelspec": {
   "display_name": "Python 3",
   "language": "python",
   "name": "python3"
  },
  "language_info": {
   "codemirror_mode": {
    "name": "ipython",
    "version": 3
   },
   "file_extension": ".py",
   "mimetype": "text/x-python",
   "name": "python",
   "nbconvert_exporter": "python",
   "pygments_lexer": "ipython3",
   "version": "3.8.5"
  }
 },
 "nbformat": 4,
 "nbformat_minor": 4
}

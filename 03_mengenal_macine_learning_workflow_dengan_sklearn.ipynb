{
 "cells": [
  {
   "cell_type": "markdown",
   "metadata": {
    "slideshow": {
     "slide_type": "slide"
    }
   },
   "source": [
    "# 03 Mengenal Machine Learning Workflow dengan Scikit Learn"
   ]
  },
  {
   "cell_type": "markdown",
   "metadata": {
    "slideshow": {
     "slide_type": "slide"
    }
   },
   "source": [
    "## Persiapan Dataset"
   ]
  },
  {
   "cell_type": "markdown",
   "metadata": {},
   "source": [
    "### Load Sample Dataset: Iris Dataset\n",
    "\n",
    "**Iris Dataset** adalah kumpulan dataset yang menampilkan data observasi 3 spesies anggrek dengan jumlah observasi tiap spesies yaitu sebanyak 50 observasi. Kemudian diperkenalkan oleh ahli statistik, ahli eugenis, dan ahli biologi **Ronald Fisher** tahun 1936 yang digunakan sebagai contoh analisis diskriminan linear.\n",
    "\n",
    "Source : https://bookdown.org/moh_rosidi2610/Rcmdr-book/summarize.html\n",
    "Source : https://en.wikipedia.org/wiki/Iris_flower_data_set"
   ]
  },
  {
   "cell_type": "code",
   "execution_count": 1,
   "metadata": {},
   "outputs": [],
   "source": [
    "from sklearn.datasets import load_iris\n",
    "\n",
    "iris = load_iris()\n",
    "\n",
    "X = iris.data\n",
    "y = iris.target"
   ]
  },
  {
   "cell_type": "markdown",
   "metadata": {},
   "source": [
    "#### Splitting Dataset: Training & Testing Set\n",
    "\n",
    "Splitting Dataset akan displit ke Training dan Testing Set yang telah tersedia di scikitlearn untuk melakukan splitting Training & Testing Set"
   ]
  },
  {
   "cell_type": "code",
   "execution_count": 2,
   "metadata": {},
   "outputs": [],
   "source": [
    "from sklearn.model_selection import train_test_split\n",
    "\n",
    "X_train, X_test, y_train, y_test = train_test_split(X,\n",
    "                                                    y,\n",
    "                                                    test_size=0.4,\n",
    "                                                    random_state=1)"
   ]
  },
  {
   "cell_type": "markdown",
   "metadata": {
    "slideshow": {
     "slide_type": "notes"
    }
   },
   "source": [
    "Untuk melakukan splitting seperti diatas lakukan from sklearn.model_selection import train_test_split. Berikutnya lakukan proses train_test_split yang ditampung dalam variabel X_train, X_test, y_train, y_test dengan 4 parameter yaitu :\n",
    "\n",
    "- X sebagai kumpulan **features**.\n",
    "- y sebagai kumpulan nilai **target**.\n",
    "- test_size=0.4 sebagai ukuran dari **testing set** sebesar 0.4 yang memiliki proporsi 40% dari keseluruhan Dataset. Sementara proporsi **training set** memiliki sebesar 60%.\n",
    "- random_state=1 sebgai proses pengacakan 1"
   ]
  },
  {
   "cell_type": "markdown",
   "metadata": {
    "slideshow": {
     "slide_type": "slide"
    }
   },
   "source": [
    "## Training Model\n",
    "\n",
    "- Pada Scikit Learn, model machine learning dibentuk dari class yang dikenal dengan istilah **estimator**.\n",
    "- Setiap estimator akan mengimplementasikan dua method utama, yaitu `fit()` dan `predict()`.\n",
    "- Method `fit()` digunakan untuk melakukan training model.\n",
    "- Method `predict()` digunakan untuk melakukan estimasi/prediksi dengan memanfaatkan trained model."
   ]
  },
  {
   "cell_type": "code",
   "execution_count": 3,
   "metadata": {},
   "outputs": [
    {
     "data": {
      "text/plain": [
       "KNeighborsClassifier(n_neighbors=3)"
      ]
     },
     "execution_count": 3,
     "metadata": {},
     "output_type": "execute_result"
    }
   ],
   "source": [
    "from sklearn.neighbors import KNeighborsClassifier\n",
    "\n",
    "model = KNeighborsClassifier(n_neighbors=3)\n",
    "model.fit(X_train, y_train)"
   ]
  },
  {
   "cell_type": "markdown",
   "metadata": {
    "slideshow": {
     "slide_type": "notes"
    }
   },
   "source": [
    "Tahap selanjutnya akan menggunakan KNeighborsClassifier sebagai `Machine Learning Model`. Model ini difungsikan untuk memanfaatkan training set.\n",
    "\n",
    "\n",
    "- Untuk membentuk Object dari Class KNeighborsClassifier lakukan `model = KNeighborsClassifier(n_neighbors=3)` dengan memberikan nilai 3 yang ditampung dalam variabel `model`\n",
    "\n",
    "- Model tersebut akan ditraining dalam method `model.fit(X_train, y_train)` yang berisi sekumpulan nilai X untuk nilai `features` dan y untuk nilai `target` dalam training set"
   ]
  },
  {
   "cell_type": "markdown",
   "metadata": {
    "slideshow": {
     "slide_type": "slide"
    }
   },
   "source": [
    "## Evaluasi Model\n",
    "\n",
    "Sebelumnya sudah melakukan pembagian atas `Training Dataset` yaitu **Training Set** dan **Testing Set**.\n",
    "- `Testing Set` digunakan untuk melakukan proses training model.\n",
    "- `Testing Set` digunakan untuk melakukan proses evaluasi atau testing performa dari model yang sudah ditraining sebelumnya.\n",
    "\n",
    "Terdapat beberapa `metrics` untuk melakukan evaluasi dan kali ini menggunakan `acuracy` sebagai metricnya."
   ]
  },
  {
   "cell_type": "code",
   "execution_count": 4,
   "metadata": {},
   "outputs": [
    {
     "name": "stdout",
     "output_type": "stream",
     "text": [
      "Accuracy: 0.9833333333333333\n"
     ]
    }
   ],
   "source": [
    "from sklearn.metrics import accuracy_score\n",
    "\n",
    "y_pred = model.predict(X_test)\n",
    "acc = accuracy_score(y_test, y_pred)\n",
    "print(f'Accuracy: {acc}')"
   ]
  },
  {
   "cell_type": "markdown",
   "metadata": {
    "slideshow": {
     "slide_type": "notes"
    }
   },
   "source": [
    "Setelah melakukan import dengan `from sklearn.metrics import accuracy_score`, berikutnya akan melakukan prediksi (`predict`) dari accuracy dengan `y_pred = model.predict(X_test)` dan ditampung ke variabel acc `acc = accuracy_score(y_test, y_pred)`"
   ]
  },
  {
   "cell_type": "markdown",
   "metadata": {
    "slideshow": {
     "slide_type": "slide"
    }
   },
   "source": [
    "## Pemanfaatan Trained Model"
   ]
  },
  {
   "cell_type": "markdown",
   "metadata": {
    "slideshow": {
     "slide_type": "notes"
    }
   },
   "source": [
    "Setelah Trained Model menghasilkan hasil yang cukup baik, maka model yang akan di trained dapat digunakan untuk melakukan prediksi (`predict`) terhadap data baru yang hanya memiliki nilai **featrures** tetapi tidak memiliki nilai **traget** seperti script dibawah ini"
   ]
  },
  {
   "cell_type": "code",
   "execution_count": 5,
   "metadata": {},
   "outputs": [
    {
     "data": {
      "text/plain": [
       "array([1, 2])"
      ]
     },
     "execution_count": 5,
     "metadata": {},
     "output_type": "execute_result"
    }
   ],
   "source": [
    "data_baru = [[5, 5, 3, 2], \n",
    "             [2, 4, 3, 5]]\n",
    "\n",
    "preds =  model.predict(data_baru)\n",
    "preds"
   ]
  },
  {
   "cell_type": "markdown",
   "metadata": {
    "slideshow": {
     "slide_type": "notes"
    }
   },
   "source": [
    "`data_baru` row `[5, 5, 3, 2]` diprediksi memiliki nilai `1` dan row kedua `[2, 4, 3, 5]` diprediksi memiliki nilai `2`\n",
    "\n",
    "Selanjutnya dengan nilai `1` dan `2` perlu untuk dikonfirmasi dengan `target_names` seperti script dibawah."
   ]
  },
  {
   "cell_type": "code",
   "execution_count": 6,
   "metadata": {},
   "outputs": [
    {
     "name": "stdout",
     "output_type": "stream",
     "text": [
      "Hasil Prediksi: ['versicolor', 'virginica']\n"
     ]
    }
   ],
   "source": [
    "pred_species = [iris.target_names[p] for p in preds] \n",
    "print(f'Hasil Prediksi: {pred_species}')"
   ]
  },
  {
   "cell_type": "markdown",
   "metadata": {
    "slideshow": {
     "slide_type": "notes"
    }
   },
   "source": [
    "Untuk data_baru pertama `[5, 5, 3, 2]` diprediksi masuk kedalam spesifikasi iris versi `versicolor`. Sedangkan untuk insert yang kedua dengan nilai features `[2, 4, 3, 5]` diprediksi masuk kedalam spesifikasi iris versi `virginica`."
   ]
  },
  {
   "cell_type": "markdown",
   "metadata": {
    "slideshow": {
     "slide_type": "slide"
    }
   },
   "source": [
    "## Dump & Load Trained Model"
   ]
  },
  {
   "cell_type": "markdown",
   "metadata": {},
   "source": [
    "#### Dumping Model Machine Learning menjadi file `joblib`\n",
    "\n",
    "`joblib` adalah modul python yang berguna untuk menyediakan fungsionalitas pemrograman paralel.\n",
    "\n",
    "Source : https://www.codepolitan.com/5-modul-python-yang-wajib-anda-coba"
   ]
  },
  {
   "cell_type": "code",
   "execution_count": 7,
   "metadata": {},
   "outputs": [
    {
     "data": {
      "text/plain": [
       "['iris_classifier_knn.joblib']"
      ]
     },
     "execution_count": 7,
     "metadata": {},
     "output_type": "execute_result"
    }
   ],
   "source": [
    "import joblib\n",
    "\n",
    "joblib.dump(model, 'iris_classifier_knn.joblib')"
   ]
  },
  {
   "cell_type": "markdown",
   "metadata": {
    "slideshow": {
     "slide_type": "notes"
    }
   },
   "source": [
    "`joblib.dump(model, 'iris_classifier_knn.joblib')` proses dari `joblib.dump` ini membutuhkan 2 parameter. Parameter pertama ada dumb yaitu `model` dan parameter kedua adalah file joblib yaitu `'iris_classifier_knn.joblib'`. Setelah melaukan demo script diatas akan muncul file baru dengan nama file `iris_classifier_knn.joblib`."
   ]
  },
  {
   "cell_type": "markdown",
   "metadata": {},
   "source": [
    "#### Loading Model Machine Learning dari file `joblib`\n",
    "\n",
    "Tahap selanjutnya kita akan load file `joblib` Machine Learning Model yang siap untuk digunakan, yang ditampung ke dalam variabel `production_model` dengan script dibawah ini."
   ]
  },
  {
   "cell_type": "code",
   "execution_count": 8,
   "metadata": {},
   "outputs": [],
   "source": [
    "production_model = joblib.load('iris_classifier_knn.joblib')"
   ]
  }
 ],
 "metadata": {
  "celltoolbar": "Slideshow",
  "kernelspec": {
   "display_name": "Python 3",
   "language": "python",
   "name": "python3"
  },
  "language_info": {
   "codemirror_mode": {
    "name": "ipython",
    "version": 3
   },
   "file_extension": ".py",
   "mimetype": "text/x-python",
   "name": "python",
   "nbconvert_exporter": "python",
   "pygments_lexer": "ipython3",
   "version": "3.8.5"
  }
 },
 "nbformat": 4,
 "nbformat_minor": 4
}

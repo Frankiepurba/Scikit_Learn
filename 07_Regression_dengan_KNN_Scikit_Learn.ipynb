{
 "cells": [
  {
   "cell_type": "markdown",
   "metadata": {
    "slideshow": {
     "slide_type": "slide"
    }
   },
   "source": [
    "# 07 Regression Algorithm dengan KNN (K Nearest Neighbours)\n",
    "\n",
    "\n",
    "Dalam **Regression K Nearest Neighbours (KNN)** digunakan untuk mengestimasi variable berkelanjutan atau kontinu. Salah satu algoritma tersebut menggunakan rata-rata `KNN`, yang dibobotkan oleh kebalikan jarak dari mereka. Algoritma ini bekerja sebagai berikut :\n",
    "\n",
    "`1`. Hitung jarak Euclidean atau Mahalanobis dari contoh query ke contoh berlabel.\n",
    "\n",
    "`2`. Mengurutkan contoh berlabel dengan menambah jarak.\n",
    "\n",
    "`3`. Menemukan jumlah `KNN` yang optimal secara heuristik, berdasarkan RMSE. Ini dilakukan dengan menggunakan validasi silang.\n",
    "\n",
    "`4`. Menghitung rata-rata tertimbang jarak terbalik dengan k-nearest multivariate neighbors.\n",
    "\n",
    "- KNN adalah model machine learning yang dapat digunakan untuk melakukan prediksi berdasarkan kedekatan karakteristik dengan sejumlah tetangga terdekat.\n",
    "- Prediksi yang dilakukan dapat diterapkan baik pada classification maupun regression tasks.\n",
    "\n",
    "Referensi: [https://en.wikipedia.org/wiki/K-nearest_neighbors_algorithm](https://en.wikipedia.org/wiki/K-nearest_neighbors_algorithm)"
   ]
  },
  {
   "cell_type": "markdown",
   "metadata": {
    "slideshow": {
     "slide_type": "slide"
    }
   },
   "source": [
    "## Sample Dataset\n",
    "\n",
    "Pada tahap `Sample Dataset` terlebih dahulu kita untuk melakukan `import pandas as pd` dengan mempersiapkan `sample_data` yang akan di olah. Sample Dataset yang digunakan adalah `sensus` sebagai variabel dengan format pandas `DataFrame` berisikan :\n",
    "- `tinggi` dan `jk` sebagai **Features**\n",
    "- `berat` (jenis kelamin) sebagai **Target**"
   ]
  },
  {
   "cell_type": "code",
   "execution_count": 1,
   "metadata": {},
   "outputs": [
    {
     "data": {
      "text/html": [
       "<div>\n",
       "<style scoped>\n",
       "    .dataframe tbody tr th:only-of-type {\n",
       "        vertical-align: middle;\n",
       "    }\n",
       "\n",
       "    .dataframe tbody tr th {\n",
       "        vertical-align: top;\n",
       "    }\n",
       "\n",
       "    .dataframe thead th {\n",
       "        text-align: right;\n",
       "    }\n",
       "</style>\n",
       "<table border=\"1\" class=\"dataframe\">\n",
       "  <thead>\n",
       "    <tr style=\"text-align: right;\">\n",
       "      <th></th>\n",
       "      <th>tinggi</th>\n",
       "      <th>jk</th>\n",
       "      <th>berat</th>\n",
       "    </tr>\n",
       "  </thead>\n",
       "  <tbody>\n",
       "    <tr>\n",
       "      <th>0</th>\n",
       "      <td>158</td>\n",
       "      <td>pria</td>\n",
       "      <td>64</td>\n",
       "    </tr>\n",
       "    <tr>\n",
       "      <th>1</th>\n",
       "      <td>170</td>\n",
       "      <td>pria</td>\n",
       "      <td>86</td>\n",
       "    </tr>\n",
       "    <tr>\n",
       "      <th>2</th>\n",
       "      <td>183</td>\n",
       "      <td>pria</td>\n",
       "      <td>84</td>\n",
       "    </tr>\n",
       "    <tr>\n",
       "      <th>3</th>\n",
       "      <td>191</td>\n",
       "      <td>pria</td>\n",
       "      <td>80</td>\n",
       "    </tr>\n",
       "    <tr>\n",
       "      <th>4</th>\n",
       "      <td>155</td>\n",
       "      <td>wanita</td>\n",
       "      <td>49</td>\n",
       "    </tr>\n",
       "    <tr>\n",
       "      <th>5</th>\n",
       "      <td>163</td>\n",
       "      <td>wanita</td>\n",
       "      <td>59</td>\n",
       "    </tr>\n",
       "    <tr>\n",
       "      <th>6</th>\n",
       "      <td>180</td>\n",
       "      <td>wanita</td>\n",
       "      <td>67</td>\n",
       "    </tr>\n",
       "    <tr>\n",
       "      <th>7</th>\n",
       "      <td>158</td>\n",
       "      <td>wanita</td>\n",
       "      <td>54</td>\n",
       "    </tr>\n",
       "    <tr>\n",
       "      <th>8</th>\n",
       "      <td>170</td>\n",
       "      <td>wanita</td>\n",
       "      <td>67</td>\n",
       "    </tr>\n",
       "  </tbody>\n",
       "</table>\n",
       "</div>"
      ],
      "text/plain": [
       "   tinggi      jk  berat\n",
       "0     158    pria     64\n",
       "1     170    pria     86\n",
       "2     183    pria     84\n",
       "3     191    pria     80\n",
       "4     155  wanita     49\n",
       "5     163  wanita     59\n",
       "6     180  wanita     67\n",
       "7     158  wanita     54\n",
       "8     170  wanita     67"
      ]
     },
     "execution_count": 1,
     "metadata": {},
     "output_type": "execute_result"
    }
   ],
   "source": [
    "import pandas as pd\n",
    "\n",
    "sensus = {'tinggi': [158, 170, 183, 191, 155, 163, 180, 158, 170], \n",
    "          'jk': ['pria', 'pria', 'pria', 'pria', 'wanita', 'wanita', 'wanita', 'wanita', 'wanita'],\n",
    "          'berat': [64, 86, 84, 80, 49, 59, 67, 54, 67]}\n",
    "\n",
    "sensus_df = pd.DataFrame(sensus)\n",
    "sensus_df"
   ]
  },
  {
   "cell_type": "markdown",
   "metadata": {
    "slideshow": {
     "slide_type": "slide"
    }
   },
   "source": [
    "## Regression dengan KNN\n",
    "\n",
    "\n",
    "Pada tahap ini kita akan coba untuk melakukan estimasi prediksi terhadap nilai `berat`."
   ]
  },
  {
   "cell_type": "markdown",
   "metadata": {
    "slideshow": {
     "slide_type": "subslide"
    }
   },
   "source": [
    "### Features & Target\n",
    "\n",
    "Sebelum melakukan **Training Model** kita akan kelompokkan terlebih dahulu sekumpulan nilai `Features` dan `Target` dari Dataset yang dimiliki. Pada tahap ini dikonversikan ke dalam `numpy` (np.array) array dengan melakukan `import numpy as np`.\n",
    "- `X_train` sebagai Features untuk training set yang  berisikan `tinggi` dan `jk`.\n",
    "- `y_train` sebagai Features untuk training set yang  berisikan `berat`."
   ]
  },
  {
   "cell_type": "code",
   "execution_count": 2,
   "metadata": {},
   "outputs": [
    {
     "name": "stdout",
     "output_type": "stream",
     "text": [
      "X_train:\n",
      "[[158 'pria']\n",
      " [170 'pria']\n",
      " [183 'pria']\n",
      " [191 'pria']\n",
      " [155 'wanita']\n",
      " [163 'wanita']\n",
      " [180 'wanita']\n",
      " [158 'wanita']\n",
      " [170 'wanita']]\n",
      "\n",
      "y_train: [64 86 84 80 49 59 67 54 67]\n"
     ]
    }
   ],
   "source": [
    "import numpy as np\n",
    "\n",
    "X_train = np.array(sensus_df[['tinggi', 'jk']])\n",
    "y_train = np.array(sensus_df['berat'])\n",
    "\n",
    "print(f'X_train:\\n{X_train}\\n')\n",
    "print(f'y_train: {y_train}')"
   ]
  },
  {
   "cell_type": "markdown",
   "metadata": {
    "slideshow": {
     "slide_type": "subslide"
    }
   },
   "source": [
    "- Untuk tahap selanjutnya kita perlu memastikan bahwa tipe data **Features** adalah numerik agar dapat dihitung jarak antar data pointnya. Pada tahap berikutnya kita akan konversikan nilai data **pria** dan **wanita** menjadi nilai `0` dan `1`"
   ]
  },
  {
   "cell_type": "markdown",
   "metadata": {
    "slideshow": {
     "slide_type": "subslide"
    }
   },
   "source": [
    "### Preprocess Dataset: Konversi Label menjadi Numerik Biner"
   ]
  },
  {
   "cell_type": "markdown",
   "metadata": {
    "slideshow": {
     "slide_type": "subslide"
    }
   },
   "source": [
    "Melakukan Konversi `pria` dan `wanita` menjadi Numerik Biner pertama-tama kita menggunakan proses `transpose` terlebih dahulu dengan parameter `X_train` yang ditampung ke dalam variable `X_train_transposed`.\n",
    "\n",
    "Proses `transpose` ini pada umumnya akan mengubah posisi `baris` menjadi `kolom` dan sebaliknya.\n",
    "- `baris` sebagai intens.\n",
    "- `kolom` sebagai features."
   ]
  },
  {
   "cell_type": "code",
   "execution_count": 3,
   "metadata": {},
   "outputs": [
    {
     "name": "stdout",
     "output_type": "stream",
     "text": [
      "X_train:\n",
      "[[158 'pria']\n",
      " [170 'pria']\n",
      " [183 'pria']\n",
      " [191 'pria']\n",
      " [155 'wanita']\n",
      " [163 'wanita']\n",
      " [180 'wanita']\n",
      " [158 'wanita']\n",
      " [170 'wanita']]\n",
      "\n",
      "X_train_transposed:\n",
      "[[158 170 183 191 155 163 180 158 170]\n",
      " ['pria' 'pria' 'pria' 'pria' 'wanita' 'wanita' 'wanita' 'wanita'\n",
      "  'wanita']]\n"
     ]
    }
   ],
   "source": [
    "X_train_transposed = np.transpose(X_train)\n",
    "\n",
    "print(f'X_train:\\n{X_train}\\n')\n",
    "print(f'X_train_transposed:\\n{X_train_transposed}')"
   ]
  },
  {
   "cell_type": "markdown",
   "metadata": {
    "slideshow": {
     "slide_type": "slide"
    }
   },
   "source": [
    "Sebelum melakukan konversi nilai `String` ke `Numerik` dengan **Binarization** terlebih dahulu kita melakukan import `from sklearn.preprocessing import LabelBinarizer`.\n",
    "- `lb = LabelBinarizer()` variabel `lb` sebagai `LabelBinarizer()`\n",
    "- `jk_binarised = lb.fit_transform(X_train_transposed[1])` sebagai transformasi data yang terdapat di **X_train_transposed** dengan indeks ke-1 karena itu adalah jenis kelamin `jk` yang ditampung ke dalam variabel `jk_binarised`.\n",
    "- `print(f'jk: {X_train_transposed[1]}\\n')` untuk menampilkan data sebelum di konversikan.\n",
    "- `print(f'jk_binarised:\\n{jk_binarised}')` untuk menampilkan konversi Binarize.\n",
    "\n",
    "Nilai yang dihasilkan adalah sebagai berikut :\n",
    "- Nilai **0** sebagai `pria`\n",
    "- Nilai **1** sebagai `wanita`"
   ]
  },
  {
   "cell_type": "code",
   "execution_count": 4,
   "metadata": {
    "scrolled": true
   },
   "outputs": [
    {
     "name": "stdout",
     "output_type": "stream",
     "text": [
      "jk: ['pria' 'pria' 'pria' 'pria' 'wanita' 'wanita' 'wanita' 'wanita' 'wanita']\n",
      "\n",
      "jk_binarised:\n",
      "[[0]\n",
      " [0]\n",
      " [0]\n",
      " [0]\n",
      " [1]\n",
      " [1]\n",
      " [1]\n",
      " [1]\n",
      " [1]]\n"
     ]
    }
   ],
   "source": [
    "from sklearn.preprocessing import LabelBinarizer\n",
    "\n",
    "lb = LabelBinarizer()\n",
    "jk_binarised = lb.fit_transform(X_train_transposed[1])\n",
    "\n",
    "print(f'jk: {X_train_transposed[1]}\\n')\n",
    "print(f'jk_binarised:\\n{jk_binarised}')"
   ]
  },
  {
   "cell_type": "markdown",
   "metadata": {
    "slideshow": {
     "slide_type": "slide"
    }
   },
   "source": [
    "Setelah hasil data berhasil ditransformasi ke dalam `Binarize` datanya berubah menjadi Array 2 dimensi. Oleh karenanya Kita dapat mengubah kedalam `Array 1 Dimenensi` dengan **flattern()** dengan menggunakan script dibawah ini."
   ]
  },
  {
   "cell_type": "code",
   "execution_count": 5,
   "metadata": {},
   "outputs": [
    {
     "data": {
      "text/plain": [
       "array([0, 0, 0, 0, 1, 1, 1, 1, 1])"
      ]
     },
     "execution_count": 5,
     "metadata": {},
     "output_type": "execute_result"
    }
   ],
   "source": [
    "jk_binarised = jk_binarised.flatten()\n",
    "jk_binarised"
   ]
  },
  {
   "cell_type": "markdown",
   "metadata": {
    "slideshow": {
     "slide_type": "slide"
    }
   },
   "source": [
    "Tahapan berikutnya adalah nilai yang sudah dikonversikan sebelumnya akan kita tampung lagi ke dalam **`X_train_transposed`** karena nilai tersebut masih berada dalam variabel **`jk_binarised`** dengan indeks ke-1 karena berkolerasi dengan jenis kelamin (jk).\n",
    "\n",
    "- Selanjutnya nilai **`X_train_transposed`** akan kita transpose balik agar yang tadinya `baris` menjadi `kolom` dan sebaliknya yang akan ditampung ke dalam variabel `X_train` dengan menggunakan script dibawah ini."
   ]
  },
  {
   "cell_type": "code",
   "execution_count": 6,
   "metadata": {},
   "outputs": [
    {
     "name": "stdout",
     "output_type": "stream",
     "text": [
      "X_train_transposed:\n",
      "[[158 170 183 191 155 163 180 158 170]\n",
      " [0 0 0 0 1 1 1 1 1]]\n",
      "\n",
      "X_train:\n",
      "[[158 0]\n",
      " [170 0]\n",
      " [183 0]\n",
      " [191 0]\n",
      " [155 1]\n",
      " [163 1]\n",
      " [180 1]\n",
      " [158 1]\n",
      " [170 1]]\n"
     ]
    }
   ],
   "source": [
    "X_train_transposed[1] = jk_binarised\n",
    "X_train = X_train_transposed.transpose()\n",
    "\n",
    "print(f'X_train_transposed:\\n{X_train_transposed}\\n')\n",
    "print(f'X_train:\\n{X_train}')"
   ]
  },
  {
   "cell_type": "markdown",
   "metadata": {
    "slideshow": {
     "slide_type": "subslide"
    }
   },
   "source": [
    "### Training KNN Regression Model\n",
    "\n",
    "Setelah **Training Set** sudah disiapkan selanjutnya kita akan melakukan **Training Model** dengan `KNN`. Regression taks juga sering kali dikenal dengan istilah **Regressor**.\n",
    "\n",
    "Pertama-tama kita melakukan import dengan `from sklearn.neighbors import KNeighborsRegressor` dengan keterangan sebagai berikut :\n",
    "- `K` memiliki nilai `3`\n",
    "- `model = KNeighborsRegressor(n_neighbors=K)` sebagai objek model `KNeighborsRegressor` dengan parameter `n_neighbors=K` yang ditampung ke dalam variabel `mdoel`.\n",
    "- `model.fit(X_train, y_train)` sebagai training model dengan `X_train` dan `y_train` sebagai parameternya dengan `model.fit`"
   ]
  },
  {
   "cell_type": "code",
   "execution_count": 7,
   "metadata": {},
   "outputs": [
    {
     "data": {
      "text/plain": [
       "KNeighborsRegressor(n_neighbors=3)"
      ]
     },
     "execution_count": 7,
     "metadata": {},
     "output_type": "execute_result"
    }
   ],
   "source": [
    "from sklearn.neighbors import KNeighborsRegressor\n",
    "\n",
    "K = 3\n",
    "model = KNeighborsRegressor(n_neighbors=K)\n",
    "model.fit(X_train, y_train)"
   ]
  },
  {
   "cell_type": "markdown",
   "metadata": {
    "slideshow": {
     "slide_type": "subslide"
    }
   },
   "source": [
    "### Prediksi Berat Badan\n",
    "\n",
    "Tahapan ini kita akan melakukan prediksi berat badan berdasarkan `tinggi` dan `jenis kelamin (jk)`, pada kasus ini kita siapkan data baru dengan `X_new` sebagai variabel dan `np.array([[155, 1]])` memiliki parameter :\n",
    "\n",
    "- Tinggi `155`\n",
    "- Jenis Kelamin (jk) `1` sebagai wanita."
   ]
  },
  {
   "cell_type": "code",
   "execution_count": 8,
   "metadata": {},
   "outputs": [
    {
     "data": {
      "text/plain": [
       "array([[155,   1]])"
      ]
     },
     "execution_count": 8,
     "metadata": {},
     "output_type": "execute_result"
    }
   ],
   "source": [
    "X_new = np.array([[155, 1]])\n",
    "X_new"
   ]
  },
  {
   "cell_type": "markdown",
   "metadata": {
    "slideshow": {
     "slide_type": "subslide"
    }
   },
   "source": [
    "Tahap berikutnya kita akan memprediksi berat badan dengan memanfaatkan `KNN Regressor` yang sudah ditraining sebelumnya dengan menggunakan `model.predict` dengan parameter `X_new` yang ditampung ke dalam variabel `y_pred`."
   ]
  },
  {
   "cell_type": "code",
   "execution_count": 9,
   "metadata": {},
   "outputs": [
    {
     "data": {
      "text/plain": [
       "array([55.66666667])"
      ]
     },
     "execution_count": 9,
     "metadata": {},
     "output_type": "execute_result"
    }
   ],
   "source": [
    "y_pred = model.predict(X_new)\n",
    "y_pred"
   ]
  },
  {
   "cell_type": "markdown",
   "metadata": {
    "slideshow": {
     "slide_type": "subslide"
    }
   },
   "source": [
    "Hasil diatas menunjukkan bahwa data dengan tinggi badan `155` yang berjenis kelamin (jk) wanita yaitu `1` memiliki berat badan `55.66666667`."
   ]
  },
  {
   "cell_type": "markdown",
   "metadata": {
    "slideshow": {
     "slide_type": "subslide"
    }
   },
   "source": [
    "### Evaluasi KNN Regression Model"
   ]
  },
  {
   "cell_type": "markdown",
   "metadata": {
    "slideshow": {
     "slide_type": "subslide"
    }
   },
   "source": [
    "Pada tahap ini kita akan mulai mempelajari beberapa matriks yang bisa kita gunakan untuk mengukur peforma dari `Regression Taks`, sebelum melakukannya kita persiapkan terlebih dahulu `Testing Set` sebgai berikut :\n",
    "\n",
    "- `X_test = np.array([[168, 0], [180, 0], [160, 1], [169, 1]])` sebagai nilai **Features** yang ditampung ke dalam variabel `X_test`.\n",
    "- `y_test = np.array([65, 96, 52, 67])` sebagai nilai **Target** yang ditampung ke dalam variabel `y_test`."
   ]
  },
  {
   "cell_type": "code",
   "execution_count": 10,
   "metadata": {},
   "outputs": [
    {
     "name": "stdout",
     "output_type": "stream",
     "text": [
      "X_test:\n",
      "[[168   0]\n",
      " [180   0]\n",
      " [160   1]\n",
      " [169   1]]\n",
      "\n",
      "y_test: [65 96 52 67]\n"
     ]
    }
   ],
   "source": [
    "X_test = np.array([[168, 0], [180, 0], [160, 1], [169, 1]])\n",
    "y_test = np.array([65, 96, 52, 67])\n",
    "\n",
    "print(f'X_test:\\n{X_test}\\n')\n",
    "print(f'y_test: {y_test}')"
   ]
  },
  {
   "cell_type": "markdown",
   "metadata": {
    "slideshow": {
     "slide_type": "subslide"
    }
   },
   "source": [
    "Tahap berikutnya kita akan lakukan predikis terhadap `Testing Set` ini dengan memanfaatkan `KNN Regressor` yang sudah ditraining sebelumnya yang menggunakan `model.predict` dengan parameter `X_test` yang ditampung ke dalam variabel `y_pred`."
   ]
  },
  {
   "cell_type": "code",
   "execution_count": 11,
   "metadata": {},
   "outputs": [
    {
     "data": {
      "text/plain": [
       "array([70.66666667, 79.        , 59.        , 70.66666667])"
      ]
     },
     "execution_count": 11,
     "metadata": {},
     "output_type": "execute_result"
    }
   ],
   "source": [
    "y_pred = model.predict(X_test)\n",
    "y_pred"
   ]
  },
  {
   "cell_type": "markdown",
   "metadata": {
    "slideshow": {
     "slide_type": "subslide"
    }
   },
   "source": [
    "Hasil diatas menunjukkan bahwa data sebagai berikut :\n",
    "\n",
    "- Tinggi badan `168` yang berjenis kelamin (jk) pria yaitu `0` memiliki berat badan `70.66666667`. Sedangkan data yang diharapkan adalah `65`.\n",
    "- Untuk data terkahir dengan Tinggi badan `169` yang berjenis kelamin (jk) wanita yaitu `1` memiliki berat badan `70.66666667`. Sedangkan data yang diharapkan adalah `67`."
   ]
  },
  {
   "cell_type": "markdown",
   "metadata": {
    "slideshow": {
     "slide_type": "subslide"
    }
   },
   "source": [
    "#### Coefficient of Determination atau $R^2$\n",
    "\n",
    "**`Coefficient of Determination`**, denoted R2 or r2 and pronounced `\"R squared\"`, is the proportion of the variance in the dependent variable that is predictable from the independent variable(s).\n",
    "\n",
    "It is a statistic used in the context of statistical models whose main purpose is either the prediction of future outcomes or the testing of hypotheses, on the basis of other related information. It provides a measure of how well observed outcomes are replicated by the model, based on the proportion of total variation of outcomes explained by the model.\n",
    "\n",
    "Referensi: [https://en.wikipedia.org/wiki/Coefficient_of_determination](https://en.wikipedia.org/wiki/Coefficient_of_determination)\n"
   ]
  },
  {
   "cell_type": "markdown",
   "metadata": {
    "slideshow": {
     "slide_type": "slide"
    }
   },
   "source": [
    "Sebelum melakukan `R2` terlebih dahulu kita melakukan import `from sklearn.metrics import r2_score` dengan keterangan sebagai berikut :\n",
    "- `r_squared = r2_score(y_test, y_pred)` dengan r2_score memiliki 2 parameter yaitu `y_test` dan `y_pred` yang ditampung ke dalam variabel `r_squared`.\n",
    "- `print(f'R-squared: {r_squared}')` untuk menampilkan hasil `r_squared`. Jika hasil semakin mendekati nilai `1` akan lebih baik daripada hasil mendekati `0` seperti pada penjelasan sebelumnya."
   ]
  },
  {
   "cell_type": "code",
   "execution_count": 12,
   "metadata": {},
   "outputs": [
    {
     "name": "stdout",
     "output_type": "stream",
     "text": [
      "R-squared: 0.6290565226735438\n"
     ]
    }
   ],
   "source": [
    "from sklearn.metrics import r2_score\n",
    "\n",
    "r_squared = r2_score(y_test, y_pred)\n",
    "\n",
    "print(f'R-squared: {r_squared}')"
   ]
  },
  {
   "cell_type": "markdown",
   "metadata": {
    "slideshow": {
     "slide_type": "subslide"
    }
   },
   "source": [
    "#### Mean Absolute Error (MAE) atau Mean Absolute Deviation (MAD)\n",
    "\n",
    "$MAE$ is the average of the absolute values of the errors of the predictions.\n",
    "\n",
    "**`Mean Absolute Error (MAE)`** is a measure of errors between paired observations expressing the same phenomenon. Examples of Y versus X include comparisons of predicted versus observed, subsequent time versus initial time, and one technique of measurement versus an alternative technique of measurement. MAE dikalkulasikan sebagai berikut :\n",
    "\n",
    "$MAE = \\frac{1}{n} \\sum_{i=1}^{n} |y_i - \\hat{y}_i|$\n",
    "\n",
    "- $y_i$\n",
    "\n",
    "Information of the Calculate MAE :\n",
    "- $y_i$ merepresentasikan setiap nilai Target pada Testing Set.\n",
    "- $\\hat{y}_i$ adalah nilai prediksi yang dihasilkan oleh kita.\n",
    "- Nilai **n** merupakan nilai jumlah data point.\n",
    "\n",
    "Untuk menghindari nilai negatif kita gunakan `absolute` function.\n",
    "\n",
    "Referensi: [https://en.wikipedia.org/wiki/Mean_absolute_error](https://en.wikipedia.org/wiki/Mean_absolute_error)"
   ]
  },
  {
   "cell_type": "markdown",
   "metadata": {
    "slideshow": {
     "slide_type": "slide"
    }
   },
   "source": [
    "Selanjutnya untuk menggunakan `Mean Absolute Error (MAE)` telebih dahulu kita melakukan import `from sklearn.metrics import mean_absolute_error` dengan keterangan sebagai berikut :\n",
    "\n",
    "- `MAE = mean_absolute_error(y_test, y_pred)` dengan mean_absolute_error memiliki 2 parameter yaitu `y_test` dan `y_pred`.\n",
    "- `print(f'MAE: {MAE}')` untuk menampilkan hasil dari MAE."
   ]
  },
  {
   "cell_type": "code",
   "execution_count": 13,
   "metadata": {},
   "outputs": [
    {
     "name": "stdout",
     "output_type": "stream",
     "text": [
      "MAE: 8.333333333333336\n"
     ]
    }
   ],
   "source": [
    "from sklearn.metrics import mean_absolute_error\n",
    "\n",
    "MAE = mean_absolute_error(y_test, y_pred)\n",
    "\n",
    "print(f'MAE: {MAE}')"
   ]
  },
  {
   "cell_type": "markdown",
   "metadata": {
    "slideshow": {
     "slide_type": "subslide"
    }
   },
   "source": [
    "#### Mean Squared Error (MSE) atau Mean Squared Deviation (MSD)\n",
    "\n",
    "$MSE$ is the average of the squares of the errors of the predictions.\n",
    "\n",
    "**Mean Squared Error (MSE) or Mean Squared Deviation (MSD)** of an estimator (of a procedure for estimating an unobserved quantity) measures the average of the squares of the errors—that is, the average squared difference between the estimated values and the actual value. MSE is a risk function, corresponding to the expected value of the squared error loss. The fact that MSE is almost always strictly positive (and not zero) is because of randomness or because the estimator does not account for information that could produce a more accurate estimate. MSE atau MSD dikalkulasikan sebagai berikut :\n",
    "\n",
    "$MSE = \\frac{1}{n} \\sum_{i=1}^{n} (y_i - \\hat{y}_i)^2$\n",
    "\n",
    "\n",
    "Referensi: [https://en.wikipedia.org/wiki/Mean_squared_error](https://en.wikipedia.org/wiki/Mean_squared_error)"
   ]
  },
  {
   "cell_type": "markdown",
   "metadata": {
    "slideshow": {
     "slide_type": "slide"
    }
   },
   "source": [
    "Selanjutnya untuk menggunakan `Mean Squared Error (MSE) or Mean Squared Deviation (MSD)` telebih dahulu kita melakukan import `from sklearn.metrics import mean_squared_error` dengan keterangan sebagai berikut :\n",
    "\n",
    "- `MSE = mean_squared_error(y_test, y_pred)` dengan mean_squared_error memiliki 2 parameter yaitu `y_test` dan `y_pred`.\n",
    "- `print(f'MSE: {MSE}')` untuk menampilkan hasil dari MSE.\n",
    "\n",
    "\n",
    "Untuk menghindari kemunculan nilai negatif $(y_i - \\hat{y}_i)^2$ hasil selisih harus dipangkatkan dengan 2"
   ]
  },
  {
   "cell_type": "code",
   "execution_count": 14,
   "metadata": {},
   "outputs": [
    {
     "name": "stdout",
     "output_type": "stream",
     "text": [
      "MSE: 95.8888888888889\n"
     ]
    }
   ],
   "source": [
    "from sklearn.metrics import mean_squared_error\n",
    "\n",
    "MSE = mean_squared_error(y_test, y_pred)\n",
    "\n",
    "print(f'MSE: {MSE}')"
   ]
  },
  {
   "cell_type": "markdown",
   "metadata": {
    "slideshow": {
     "slide_type": "slide"
    }
   },
   "source": [
    "Jika hasil dari `Mean Squared Error (MSE) or Mean Squared Deviation (MSD)` lebih kecil akan didefiniskan lebih baik dikarenakan ini untuk menghitung dari `Mean Sqaured Error`."
   ]
  },
  {
   "cell_type": "markdown",
   "metadata": {
    "slideshow": {
     "slide_type": "subslide"
    }
   },
   "source": [
    "### Permasalahan Scaling pada Features\n",
    "\n",
    "**Feature Scaling** adalah suatu cara untuk membuat numerical data pada dataset memiliki rentang nilai (scale) yang sama. Tidak ada lagi satu variabel data yang mendominasi variabel data lainnya.\n",
    "\n",
    "Referensi : https://medium.com/machine-learning-id/melakukan-feature-scaling-pada-dataset-229531bb08de#:~:text=Feature%20Scaling%20adalah%20suatu%20cara,yang%20mendominasi%20variabel%20data%20lainnya."
   ]
  },
  {
   "cell_type": "markdown",
   "metadata": {
    "slideshow": {
     "slide_type": "slide"
    }
   },
   "source": [
    "Untuk melakukan Scaling pada Features terlebih dahulu kita melakukan import dengan `from scipy.spatial.distance import euclidean` pada kasus ini **`tinggi dalam milimeter`** dengan keterangan sebagai berikut :\n",
    "\n",
    "- `X_train = np.array([[1700, 0], [1600, 1]])` dengan np.array memiliki 2 parameter yaitu `[1700, 0]` dan `[1600, 1]` yang ditampung ke dalam variabel `X_train`.\n",
    "- `X_new = np.array([[1640, 0]])` dengan np.array memiliki parameter yaitu `[1640, 0]` yang ditampung ke dalam variabel `X_new`.\n",
    "- `[euclidean(X_new[0], d) for d in X_train]` sebagai proses pengukuran untuk mengetahui apakah hasilnya akan berdampak pada eksistensi **`euclidean`** seperti script dibawah ini."
   ]
  },
  {
   "cell_type": "code",
   "execution_count": 15,
   "metadata": {},
   "outputs": [
    {
     "data": {
      "text/plain": [
       "[60.0, 40.01249804748511]"
      ]
     },
     "execution_count": 15,
     "metadata": {},
     "output_type": "execute_result"
    }
   ],
   "source": [
    "from scipy.spatial.distance import euclidean\n",
    "\n",
    "# tinggi dalam milimeter\n",
    "X_train = np.array([[1700, 0], [1600, 1]])\n",
    "X_new = np.array([[1640, 0]])\n",
    "\n",
    "[euclidean(X_new[0], d) for d in X_train]"
   ]
  },
  {
   "cell_type": "markdown",
   "metadata": {
    "slideshow": {
     "slide_type": "slide"
    }
   },
   "source": [
    "Untuk melakukan Scaling pada Features terlebih dahulu kita melakukan import dengan `from scipy.spatial.distance import euclidean` pada kasus ini **`tinggi dalam meter`** dengan keterangan sebagai berikut :\n",
    "\n",
    "- `X_train = np.array([[1.7, 0], [1.6, 1]])` dengan np.array memiliki 2 parameter yaitu `[1.7, 0]` dan `[1.6, 1]])` yang ditampung ke dalam variabel `X_train`.\n",
    "- `X_new = np.array([[1.64, 0]])` dengan np.array memiliki parameter yaitu `[1640, 0]` yang ditampung ke dalam variabel `X_new`.\n",
    "- `[euclidean(X_new[0], d) for d in X_train]` untuk mengetahui apakah hasilnya akan berdampak pada eksistensi **`euclidean`** seperti script dibawah ini."
   ]
  },
  {
   "cell_type": "code",
   "execution_count": 16,
   "metadata": {},
   "outputs": [
    {
     "data": {
      "text/plain": [
       "[0.06000000000000005, 1.0007996802557444]"
      ]
     },
     "execution_count": 16,
     "metadata": {},
     "output_type": "execute_result"
    }
   ],
   "source": [
    "# tinggi dalam meter\n",
    "X_train = np.array([[1.7, 0], [1.6, 1]])\n",
    "X_new = np.array([[1.64, 0]])\n",
    "\n",
    "[euclidean(X_new[0], d) for d in X_train]"
   ]
  },
  {
   "cell_type": "markdown",
   "metadata": {
    "slideshow": {
     "slide_type": "subslide"
    }
   },
   "source": [
    "### Menerapkan Standard Scaler (Standard Score atau Z-Score)\n",
    "\n",
    "Standardize features by removing the mean and scaling to unit variance.\n",
    "\n",
    "**Standard Score** is the number of standard deviations by which the value of a raw score (i.e., an observed value or data point) is above or below the mean value of what is being observed or measured. Raw scores above the mean have positive standard scores, while those below the mean have negative standard scores.\n",
    "\n",
    "It is calculated by subtracting the population mean from an individual raw score and then dividing the difference by the population standard deviation. This process of converting a raw score into a standard score is called standardizing or normalizing (however, \"normalizing\" can refer to many types of ratios; see normalization for more). Z-Score dikalkulasikan sebagai berikut :\n",
    "\n",
    "\n",
    "$z = \\frac{x - \\bar{x}}{S}$\n",
    "\n",
    "information of the Calculate :\n",
    "- $x$ sebagai nilai Features.\n",
    "- $\\bar{x}$ sebagai nilai rata-rata dari nilai **Z**.\n",
    "- $(S)$ sebagai nilai standard deviation dari sekumpulan nilai Features.\n",
    "\n",
    "\n",
    "Referensi: [https://en.wikipedia.org/wiki/Standard_score](https://en.wikipedia.org/wiki/Standard_score)"
   ]
  },
  {
   "cell_type": "markdown",
   "metadata": {
    "slideshow": {
     "slide_type": "slide"
    }
   },
   "source": [
    "Untuk melakukan **Standard Scaler (Standard Score atau Z-Score)** terlebih dahulu kita melakukan import dengan `from sklearn.preprocessing import StandardScaler` dengan keterangan sebagai berikut :\n",
    "\n",
    "- `ss = StandardScaler()` dengan fungsi StandardScaler() yang ditampung ke dalam variabel `ss` seperti scrript dibawah ini."
   ]
  },
  {
   "cell_type": "code",
   "execution_count": 17,
   "metadata": {},
   "outputs": [],
   "source": [
    "from sklearn.preprocessing import StandardScaler\n",
    "\n",
    "ss = StandardScaler()"
   ]
  },
  {
   "cell_type": "markdown",
   "metadata": {
    "slideshow": {
     "slide_type": "slide"
    }
   },
   "source": [
    "### Standard Scaler dengan Tinggi dalam Milimeter\n",
    "\n",
    "Untuk melakukan Scaling pada Features terlebih dahulu kita melakukan import dengan `from scipy.spatial.distance import euclidean` pada kasus ini **`tinggi dalam milimeter`** dengan keterangan sebagai berikut :\n",
    "\n",
    "**X_train_scaled :**\n",
    "- `X_train = np.array([[1700, 0], [1600, 1]])` dengan np.array memiliki 2 parameter yaitu `[1700, 0]` dan `[1600, 1]` yang ditampung ke dalam variabel `X_train`.\n",
    "- `X_train_scaled = ss.fit_transform(X_train)` dengan ss.fit_transform memiliki parameter yaitu `X_train` yang ditampung ke dalam variabel `X_train_scaled`.\n",
    "\n",
    "**X_new_scaled :**\n",
    "- `X_new = np.array([[1640, 0]])` dengan np.array memiliki parameter yaitu `[1640, 0]` yang ditampung ke dalam variabel `X_new`.\n",
    "- `X_new_scaled = ss.transform(X_new)` dengan ss.fit_transform memiliki parameter yaitu `X_new` yang ditampung ke dalam variabel `X_new_scaled`.\n",
    "\n",
    "\n",
    "- `jarak = [euclidean(X_new_scaled[0], d) for d in X_train_scaled]` sebagai proses pengukuran yang ditampung ke dalam variabel `jarak` untuk mengetahui apakah hasilnya akan berdampak pada eksistensi **`euclidean`** seperti script dibawah ini."
   ]
  },
  {
   "cell_type": "code",
   "execution_count": 18,
   "metadata": {},
   "outputs": [
    {
     "name": "stdout",
     "output_type": "stream",
     "text": [
      "X_train_scaled:\n",
      "[[ 1. -1.]\n",
      " [-1.  1.]]\n",
      "\n",
      "X_new_scaled: [[-0.2 -1. ]]\n",
      "\n",
      "jarak: [1.2, 2.154065922853802]\n"
     ]
    }
   ],
   "source": [
    "# tinggi dalam milimeter\n",
    "X_train = np.array([[1700, 0], [1600, 1]])\n",
    "X_train_scaled = ss.fit_transform(X_train)\n",
    "print(f'X_train_scaled:\\n{X_train_scaled}\\n')\n",
    "\n",
    "X_new = np.array([[1640, 0]])\n",
    "X_new_scaled = ss.transform(X_new)\n",
    "print(f'X_new_scaled: {X_new_scaled}\\n')\n",
    "\n",
    "jarak = [euclidean(X_new_scaled[0], d) for d in X_train_scaled]\n",
    "print(f'jarak: {jarak}')"
   ]
  },
  {
   "cell_type": "markdown",
   "metadata": {
    "slideshow": {
     "slide_type": "slide"
    }
   },
   "source": [
    "### Standard Scaler dengan Tinggi dalam Meter\n",
    "\n",
    "Untuk melakukan Scaling pada Features terlebih dahulu kita melakukan import dengan `from scipy.spatial.distance import euclidean` pada kasus ini **`tinggi dalam milimeter`** dengan keterangan sebagai berikut :\n",
    "\n",
    "**X_train_scaled :**\n",
    "- `X_train = np.array([[1.7, 0], [1.6, 1]])` dengan np.array memiliki 2 parameter yaitu `[1.7, 0]` dan `[1.6, 1]` yang ditampung ke dalam variabel `X_train`.\n",
    "- `X_train_scaled = ss.fit_transform(X_train)` dengan ss.fit_transform memiliki parameter yaitu `X_train` yang ditampung ke dalam variabel `X_train_scaled`.\n",
    "\n",
    "**X_new_scaled :**\n",
    "- `X_new = np.array([[1.64, 0]])` dengan np.array memiliki parameter yaitu `[1.64, 0]` yang ditampung ke dalam variabel `X_new`.\n",
    "- `X_new_scaled = ss.transform(X_new)` dengan ss.fit_transform memiliki parameter yaitu `X_new` yang ditampung ke dalam variabel `X_new_scaled`.\n",
    "\n",
    "\n",
    "- `jarak = [euclidean(X_new_scaled[0], d) for d in X_train_scaled]` sebagai proses pengukuran yang ditampung ke dalam variabel `jarak` untuk mengetahui apakah hasilnya akan berdampak pada eksistensi **`euclidean`** seperti script dibawah ini."
   ]
  },
  {
   "cell_type": "code",
   "execution_count": 19,
   "metadata": {},
   "outputs": [
    {
     "name": "stdout",
     "output_type": "stream",
     "text": [
      "X_train_scaled:\n",
      "[[ 1. -1.]\n",
      " [-1.  1.]]\n",
      "\n",
      "X_new_scaled: [[-0.2 -1. ]]\n",
      "\n",
      "jarak: [1.2000000000000026, 2.1540659228538006]\n"
     ]
    }
   ],
   "source": [
    "# tinggi dalam meter\n",
    "X_train = np.array([[1.7, 0], [1.6, 1]])\n",
    "X_train_scaled = ss.fit_transform(X_train)\n",
    "print(f'X_train_scaled:\\n{X_train_scaled}\\n')\n",
    "\n",
    "X_new = np.array([[1.64, 0]])\n",
    "X_new_scaled = ss.transform(X_new)\n",
    "print(f'X_new_scaled: {X_new_scaled}\\n')\n",
    "\n",
    "jarak = [euclidean(X_new_scaled[0], d) for d in X_train_scaled]\n",
    "print(f'jarak: {jarak}')"
   ]
  },
  {
   "cell_type": "markdown",
   "metadata": {
    "slideshow": {
     "slide_type": "subslide"
    }
   },
   "source": [
    "### Menerapkan Features Scaling pada KNN\n",
    "\n",
    "#### Dataset\n",
    "\n",
    "Sebelumnya kita siapkan terlebih dahulu sebagai berikut :\n",
    "**Training Set**\n",
    "- `X_train` sebagai variabel dengan sekumpulan nilai Features\n",
    "- `y_train` sebagai variabel dengan sekumpulan nilai Target\n",
    "\n",
    "**Test Set** sebagai keperluan evaluasi yaitu `X_test` dan `y_test`."
   ]
  },
  {
   "cell_type": "code",
   "execution_count": 20,
   "metadata": {},
   "outputs": [],
   "source": [
    "# Training Set\n",
    "X_train = np.array([[158, 0], [170, 0], [183, 0], [191, 0], [155, 1], [163, 1],\n",
    "                    [180, 1], [158, 1], [170, 1]])\n",
    "\n",
    "y_train = np.array([64, 86, 84, 80, 49, 59, 67, 54, 67])\n",
    "\n",
    "# Test Set\n",
    "X_test = np.array([[168, 0], [180, 0], [160, 1], [169, 1]])\n",
    "y_test = np.array([65, 96, 52, 67])"
   ]
  },
  {
   "cell_type": "markdown",
   "metadata": {},
   "source": [
    "#### Features Scaling (Standard Scaler)\n",
    "\n",
    "- `X_train_scaled = ss.fit_transform(X_train)` memiliki ss.fit_transform sebagai fit_transform yang memiliki parameter `X_train` yang ditampung ke dalam variabel `X_train_scaled`.\n",
    "- `X_test_scaled = ss.transform(X_test)` memiliki ss.transform sebagai transform yang memiliki parameter `X_test` yang ditampung ke dalam variabel `X_test_scaled`."
   ]
  },
  {
   "cell_type": "code",
   "execution_count": 21,
   "metadata": {
    "scrolled": true
   },
   "outputs": [
    {
     "name": "stdout",
     "output_type": "stream",
     "text": [
      "X_train_scaled:\n",
      "[[-0.9908706  -1.11803399]\n",
      " [ 0.01869567 -1.11803399]\n",
      " [ 1.11239246 -1.11803399]\n",
      " [ 1.78543664 -1.11803399]\n",
      " [-1.24326216  0.89442719]\n",
      " [-0.57021798  0.89442719]\n",
      " [ 0.86000089  0.89442719]\n",
      " [-0.9908706   0.89442719]\n",
      " [ 0.01869567  0.89442719]]\n",
      "\n",
      "X_test_scaled:\n",
      "[[-0.14956537 -1.11803399]\n",
      " [ 0.86000089 -1.11803399]\n",
      " [-0.82260955  0.89442719]\n",
      " [-0.06543485  0.89442719]]\n",
      "\n"
     ]
    }
   ],
   "source": [
    "X_train_scaled = ss.fit_transform(X_train)\n",
    "X_test_scaled = ss.transform(X_test)\n",
    "\n",
    "print(f'X_train_scaled:\\n{X_train_scaled}\\n')\n",
    "print(f'X_test_scaled:\\n{X_test_scaled}\\n')"
   ]
  },
  {
   "cell_type": "markdown",
   "metadata": {},
   "source": [
    "#### Training & Evaluasi Model\n",
    "\n",
    "Pada tahap `Training dan Evaluasi Model` terlebih dahulu kita melakukan model `model.fit(X_train_scaled, y_train)` memiliki 2 parameter yaitu `X_train_scaled` dan `y_train` dengan keterangan sebagai berikut :\n",
    "\n",
    "- `y_pred = model.predict(X_test_scaled)` melakukan prediksi dengan model.predict yang memiliki parameter yaitu `X_test_scaled`.\n",
    "\n",
    "- `MAE = mean_absolute_error(y_test, y_pred)` melakukan prediksi dengan mean_absolute_error yang memiliki 2 parameter yaitu `y_test` dan `y_pred` yang ditampung ke dalam variabel `MAE`.\n",
    "\n",
    "- `MSE = mean_squared_error(y_test, y_pred)` melakukan prediksi dengan mean_squared_error yang memiliki 2 parameter yaitu `y_test` dan `y_pred` yang ditampung ke dalam variabel `MSE`.\n",
    "\n",
    "Seperti script dibawah ini."
   ]
  },
  {
   "cell_type": "code",
   "execution_count": 22,
   "metadata": {},
   "outputs": [
    {
     "name": "stdout",
     "output_type": "stream",
     "text": [
      "MAE: 7.583333333333336\n",
      "MSE: 85.13888888888893\n"
     ]
    }
   ],
   "source": [
    "model.fit(X_train_scaled, y_train)\n",
    "y_pred = model.predict(X_test_scaled)\n",
    "\n",
    "MAE = mean_absolute_error(y_test, y_pred)\n",
    "MSE = mean_squared_error(y_test, y_pred)\n",
    "\n",
    "print(f'MAE: {MAE}')\n",
    "print(f'MSE: {MSE}')"
   ]
  }
 ],
 "metadata": {
  "celltoolbar": "Slideshow",
  "kernelspec": {
   "display_name": "Python 3",
   "language": "python",
   "name": "python3"
  },
  "language_info": {
   "codemirror_mode": {
    "name": "ipython",
    "version": 3
   },
   "file_extension": ".py",
   "mimetype": "text/x-python",
   "name": "python",
   "nbconvert_exporter": "python",
   "pygments_lexer": "ipython3",
   "version": "3.8.5"
  }
 },
 "nbformat": 4,
 "nbformat_minor": 4
}

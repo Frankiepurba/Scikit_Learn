{
 "cells": [
  {
   "cell_type": "markdown",
   "metadata": {
    "slideshow": {
     "slide_type": "slide"
    }
   },
   "source": [
    "# 04 Data Preprocessing dengan Scikit-Learn"
   ]
  },
  {
   "cell_type": "markdown",
   "metadata": {
    "slideshow": {
     "slide_type": "slide"
    }
   },
   "source": [
    "## Sample Dataset\n",
    "\n",
    "Pada tahap `Sample Dataset` terlebih dahulu kita untuk mempersiapkan `sample_data` yang akan di olah."
   ]
  },
  {
   "cell_type": "markdown",
   "metadata": {
    "slideshow": {
     "slide_type": "slide"
    }
   },
   "source": [
    "Pertama-tama kita perlu untuk melakukan import `numpy` sebagai `np` karena Dataset akan digeneralisasikan sebagai `numpy array`.\n",
    "Selanjutnya untuk melakukan `Preprocessing` kita perlu untuk melakukan `from sklearn import preprocessing`."
   ]
  },
  {
   "cell_type": "code",
   "execution_count": 1,
   "metadata": {},
   "outputs": [
    {
     "data": {
      "text/plain": [
       "array([[ 2.1, -1.9,  5.5],\n",
       "       [-1.5,  2.4,  3.5],\n",
       "       [ 0.5, -7.9,  5.6],\n",
       "       [ 5.9,  2.3, -5.8]])"
      ]
     },
     "execution_count": 1,
     "metadata": {},
     "output_type": "execute_result"
    }
   ],
   "source": [
    "import numpy as np\n",
    "from sklearn import preprocessing\n",
    "\n",
    "sample_data = np.array([[2.1, -1.9, 5.5], \n",
    "                        [-1.5, 2.4, 3.5], \n",
    "                        [0.5, -7.9, 5.6],\n",
    "                        [5.9, 2.3, -5.8]])\n",
    "\n",
    "sample_data"
   ]
  },
  {
   "cell_type": "markdown",
   "metadata": {
    "slideshow": {
     "slide_type": "slide"
    }
   },
   "source": [
    "Dataset yang dihasil dapat kita pandang dengan Dataset **Features** mengacu pada materi yang sudah dijelaskan sebelumnya yang terbagi atas tiga Dataset.\n",
    "\n",
    "Untuk lebih jelasnya lagi kita dapat memanggil dimensi dari `sample_data` dengan `sample_data.shape`."
   ]
  },
  {
   "cell_type": "code",
   "execution_count": 2,
   "metadata": {},
   "outputs": [
    {
     "data": {
      "text/plain": [
       "(4, 3)"
      ]
     },
     "execution_count": 2,
     "metadata": {},
     "output_type": "execute_result"
    }
   ],
   "source": [
    "sample_data.shape"
   ]
  },
  {
   "cell_type": "markdown",
   "metadata": {
    "slideshow": {
     "slide_type": "slide"
    }
   },
   "source": [
    "- `(4, 3)` merepresentasikan bahwa jumlah barisnya ada 4 dan jumlah kolom atau Featuresnya ada 3"
   ]
  },
  {
   "cell_type": "markdown",
   "metadata": {
    "slideshow": {
     "slide_type": "slide"
    }
   },
   "source": [
    "## Binarisation"
   ]
  },
  {
   "cell_type": "markdown",
   "metadata": {
    "slideshow": {
     "slide_type": "slide"
    }
   },
   "source": [
    "**Binarization** adalah suatu proses data numerik yang terdiri dari 2 nilai yaitu `0` dan `1`.\n",
    "\n",
    "Tahap berikutnya kita akan coba untuk menampilkan data (`sample_data`) yang sudah kita tampung sebelumnya."
   ]
  },
  {
   "cell_type": "code",
   "execution_count": 3,
   "metadata": {},
   "outputs": [
    {
     "data": {
      "text/plain": [
       "array([[ 2.1, -1.9,  5.5],\n",
       "       [-1.5,  2.4,  3.5],\n",
       "       [ 0.5, -7.9,  5.6],\n",
       "       [ 5.9,  2.3, -5.8]])"
      ]
     },
     "execution_count": 3,
     "metadata": {},
     "output_type": "execute_result"
    }
   ],
   "source": [
    "sample_data"
   ]
  },
  {
   "cell_type": "markdown",
   "metadata": {
    "slideshow": {
     "slide_type": "slide"
    }
   },
   "source": [
    "- Nilai yang ditampilkan oleh `sample_data` dapat diubah dengan 2 nilai yaitu `0` dan `1` menggunakan `preprocessing.Binarizer` seperti script dibawah yang menyertakan 1 buah parameter yaitu `threshold=0.5` dengan nilai `0.5`.\n",
    "- Tahap selanjutnya kita akan melakukan transformasi nilai dengan `preprocessor.transform(sample_data)` yang ditampung dalam variabel `binarised_data`."
   ]
  },
  {
   "cell_type": "code",
   "execution_count": 4,
   "metadata": {},
   "outputs": [
    {
     "data": {
      "text/plain": [
       "array([[1., 0., 1.],\n",
       "       [0., 1., 1.],\n",
       "       [0., 0., 1.],\n",
       "       [1., 1., 0.]])"
      ]
     },
     "execution_count": 4,
     "metadata": {},
     "output_type": "execute_result"
    }
   ],
   "source": [
    "preprocessor = preprocessing.Binarizer(threshold=0.5)\n",
    "binarised_data = preprocessor.transform(sample_data)\n",
    "binarised_data"
   ]
  },
  {
   "cell_type": "markdown",
   "metadata": {
    "slideshow": {
     "slide_type": "slide"
    }
   },
   "source": [
    "Untuk nilai yang ditampilkan hanya memiliki 2 nilai saja yaitu `0` dan `1` dengan pemahaman bahwa nilai yang dibawah `0.5` akan menjadi nilai `0` dan nilai yang diatas `0.5` akan menjadi nilai `1` dari hasil **Binarization** `sample_data`.\n",
    "\n",
    "- Nilai `>0.5` = `1`\n",
    "- Nilai `<0.5` = `0`\n",
    "- Nilai `=0.5` = `0`"
   ]
  },
  {
   "cell_type": "markdown",
   "metadata": {
    "slideshow": {
     "slide_type": "slide"
    }
   },
   "source": [
    "## Scaling\n",
    "\n",
    "Tujuan utama dari teknik `Scaling` ini adalah untuk menghasilkan data numerik yang berada rentang skala tertentu. Untuk melakukan teknik Scaling kita akan menggunakan `sample_data` yang sudah kita buat sebelumnya."
   ]
  },
  {
   "cell_type": "code",
   "execution_count": 5,
   "metadata": {},
   "outputs": [
    {
     "data": {
      "text/plain": [
       "array([[ 2.1, -1.9,  5.5],\n",
       "       [-1.5,  2.4,  3.5],\n",
       "       [ 0.5, -7.9,  5.6],\n",
       "       [ 5.9,  2.3, -5.8]])"
      ]
     },
     "execution_count": 5,
     "metadata": {},
     "output_type": "execute_result"
    }
   ],
   "source": [
    "sample_data"
   ]
  },
  {
   "cell_type": "markdown",
   "metadata": {
    "slideshow": {
     "slide_type": "slide"
    }
   },
   "source": [
    "- Untuk melakukan teknik `Scaling` kita dapat menggunakan bebeapa cara, salah satunya adalah dengan melakukan `preprocessing.MinMaxScaler` yang diberi sebuah parameter `(feature_range=(0, 1)` dengan nilai `0` yang diindikasikan nilai terkecil dari skala baru & `1` yang diindikasikan nilai terbesar dari skala baru dan ditampung dalam sebuah variabel yaitu `preprocessor`.\n",
    "\n",
    "- Selanjutnya kita akan melakukan `fit` terhadap parameter `sample_data` caranya dengan `preprocessor.fit(sample_data)`.\n",
    "\n",
    "- Setelah melakukan `fit`, maka `Scaler` ini dapat kita gunakan untuk `transformasi` data dengan melakukan `scaled_data = preprocessor.transform(sample_data)` yang ditampung dalam variabel `scaled_data` dengan parameter `sample_data`.\n",
    "\n",
    "- Nilai terbesar adalah `1`\n",
    "\n",
    "- Nilai terkecil adalah `0`\n",
    "\n",
    "Dengan script dibawah ini."
   ]
  },
  {
   "cell_type": "code",
   "execution_count": 6,
   "metadata": {},
   "outputs": [
    {
     "data": {
      "text/plain": [
       "array([[0.48648649, 0.58252427, 0.99122807],\n",
       "       [0.        , 1.        , 0.81578947],\n",
       "       [0.27027027, 0.        , 1.        ],\n",
       "       [1.        , 0.99029126, 0.        ]])"
      ]
     },
     "execution_count": 6,
     "metadata": {},
     "output_type": "execute_result"
    }
   ],
   "source": [
    "preprocessor = preprocessing.MinMaxScaler(feature_range=(0, 1))\n",
    "preprocessor.fit(sample_data)\n",
    "scaled_data = preprocessor.transform(sample_data)\n",
    "scaled_data"
   ]
  },
  {
   "cell_type": "markdown",
   "metadata": {
    "slideshow": {
     "slide_type": "slide"
    }
   },
   "source": [
    "Proses `fit` dan `transform` dapat dilakukan dengan sederhana dengan data atau parameter yang sama yang ditampung ke dalam variabel `scaled_data`, caranya dapat melihat script dibawah ini\n",
    "\n",
    "`scaled_data = preprocessor.fit_transform(sample_data)`"
   ]
  },
  {
   "cell_type": "code",
   "execution_count": 7,
   "metadata": {},
   "outputs": [
    {
     "data": {
      "text/plain": [
       "array([[0.48648649, 0.58252427, 0.99122807],\n",
       "       [0.        , 1.        , 0.81578947],\n",
       "       [0.27027027, 0.        , 1.        ],\n",
       "       [1.        , 0.99029126, 0.        ]])"
      ]
     },
     "execution_count": 7,
     "metadata": {},
     "output_type": "execute_result"
    }
   ],
   "source": [
    "scaled_data = preprocessor.fit_transform(sample_data)\n",
    "scaled_data"
   ]
  },
  {
   "cell_type": "markdown",
   "metadata": {
    "slideshow": {
     "slide_type": "slide"
    }
   },
   "source": [
    "## L1 Normalisation: Least Absolute Deviations \n",
    "\n",
    "\n",
    "Tujuan utama dari Normalization ini adalah untuk menormalkan data numerik yang kita miliki.\n",
    "\n",
    "`Least absolute deviations (LAD)`, also known as least absolute errors (LAE), least absolute value (LAV), least absolute residual (LAR), sum of absolute deviations, or the L1 norm condition, is a statistical optimality criterion and the statistical optimization technique that relies on it. Similar to the least squares technique, it attempts to find a function which closely approximates a set of data. In the simple case of a set of (x,y) data, the approximation function is a simple \"trend line\" in two-dimensional Cartesian coordinates.\n",
    "\n",
    "Referensi: [https://en.wikipedia.org/wiki/Least_absolute_deviations](https://en.wikipedia.org/wiki/Least_absolute_deviations)"
   ]
  },
  {
   "cell_type": "code",
   "execution_count": 8,
   "metadata": {},
   "outputs": [
    {
     "data": {
      "text/plain": [
       "array([[ 2.1, -1.9,  5.5],\n",
       "       [-1.5,  2.4,  3.5],\n",
       "       [ 0.5, -7.9,  5.6],\n",
       "       [ 5.9,  2.3, -5.8]])"
      ]
     },
     "execution_count": 8,
     "metadata": {},
     "output_type": "execute_result"
    }
   ],
   "source": [
    "sample_data"
   ]
  },
  {
   "cell_type": "markdown",
   "metadata": {
    "slideshow": {
     "slide_type": "slide"
    }
   },
   "source": [
    "Untuk melakukan `Normalization` kita akan menggunakan `sample_data` yang akan kita olah atau dinormalisasikan dengan cara `preprocessing.normalize` yang memiliki 2 parameter `(sample_data, norm='l1')` yang ditampung di variabel `l1_normalised_data` :\n",
    "\n",
    "- Parameter pertama adalah `sample_data` sebagai data numerik yang akan diubah.\n",
    "- Parameter kedua adalah `norm=l1` sebagai **Least Absolute Deviations**\n",
    "\n",
    "Dapat melihat script dibawah ini."
   ]
  },
  {
   "cell_type": "code",
   "execution_count": 9,
   "metadata": {},
   "outputs": [
    {
     "data": {
      "text/plain": [
       "array([[ 0.22105263, -0.2       ,  0.57894737],\n",
       "       [-0.2027027 ,  0.32432432,  0.47297297],\n",
       "       [ 0.03571429, -0.56428571,  0.4       ],\n",
       "       [ 0.42142857,  0.16428571, -0.41428571]])"
      ]
     },
     "execution_count": 9,
     "metadata": {},
     "output_type": "execute_result"
    }
   ],
   "source": [
    "l1_normalised_data = preprocessing.normalize(sample_data, norm='l1')\n",
    "l1_normalised_data"
   ]
  },
  {
   "cell_type": "markdown",
   "metadata": {
    "slideshow": {
     "slide_type": "slide"
    }
   },
   "source": [
    "## L2 Normalisation: Least Squares\n",
    "\n",
    "\n",
    "The method of `least squares` is a standard approach in regression analysis to approximate the solution of overdetermined systems (sets of equations in which there are more equations than unknowns) by minimizing the sum of the squares of the residuals made in the results of every single equation.\n",
    "\n",
    "The most important application is in data fitting. The best fit in the least-squares sense minimizes the sum of squared residuals (a residual being: the difference between an observed value, and the fitted value provided by a model). When the problem has substantial uncertainties in the independent variable (the x variable), then simple regression and least-squares methods have problems; in such cases, the methodology required for fitting errors-in-variables models may be considered instead of that for least squares.\n",
    "\n",
    "Least-squares problems fall into two categories: linear or ordinary least squares and nonlinear least squares, depending on whether or not the residuals are linear in all unknowns. The linear least-squares problem occurs in statistical regression analysis; it has a closed-form solution. The nonlinear problem is usually solved by iterative refinement; at each iteration the system is approximated by a linear one, and thus the core calculation is similar in both cases.\n",
    "\n",
    "Referensi: [https://en.wikipedia.org/wiki/Least_squares](https://en.wikipedia.org/wiki/Least_squares)"
   ]
  },
  {
   "cell_type": "markdown",
   "metadata": {
    "slideshow": {
     "slide_type": "slide"
    }
   },
   "source": [
    "Sebelum melakukan `Normalization (L2): Least Squares` kita akan memerlukan `sample_data`"
   ]
  },
  {
   "cell_type": "code",
   "execution_count": 10,
   "metadata": {},
   "outputs": [
    {
     "data": {
      "text/plain": [
       "array([[ 2.1, -1.9,  5.5],\n",
       "       [-1.5,  2.4,  3.5],\n",
       "       [ 0.5, -7.9,  5.6],\n",
       "       [ 5.9,  2.3, -5.8]])"
      ]
     },
     "execution_count": 10,
     "metadata": {},
     "output_type": "execute_result"
    }
   ],
   "source": [
    "sample_data"
   ]
  },
  {
   "cell_type": "markdown",
   "metadata": {
    "slideshow": {
     "slide_type": "slide"
    }
   },
   "source": [
    "Setelah kita sudah melakukan `sample_data` selanjutnya kita akan melakukan `preprocessing.normalize` dengan menyertakan 2 parameter yaitu `(sample_data, norm='l2')` yang ditampung kedalam sebuah variabel `l2_normalised_data`.\n",
    "\n",
    "- `l2_normalised_data = preprocessing.normalize(sample_data, norm='l2')`\n",
    "- Parameter yang pertama mengacu pada `sample_data`\n",
    "- Parameter yang kedua yaitu `norm=l2` sebagai Normalization `Least Squares`\n",
    "\n",
    "`l2_normalised_data = preprocessing.normalize(sample_data, norm='l2')`"
   ]
  },
  {
   "cell_type": "code",
   "execution_count": 11,
   "metadata": {},
   "outputs": [
    {
     "data": {
      "text/plain": [
       "array([[ 0.33946114, -0.30713151,  0.88906489],\n",
       "       [-0.33325106,  0.53320169,  0.7775858 ],\n",
       "       [ 0.05156558, -0.81473612,  0.57753446],\n",
       "       [ 0.68706914,  0.26784051, -0.6754239 ]])"
      ]
     },
     "execution_count": 11,
     "metadata": {},
     "output_type": "execute_result"
    }
   ],
   "source": [
    "l2_normalised_data = preprocessing.normalize(sample_data, norm='l2')\n",
    "l2_normalised_data"
   ]
  }
 ],
 "metadata": {
  "celltoolbar": "Slideshow",
  "kernelspec": {
   "display_name": "Python 3",
   "language": "python",
   "name": "python3"
  },
  "language_info": {
   "codemirror_mode": {
    "name": "ipython",
    "version": 3
   },
   "file_extension": ".py",
   "mimetype": "text/x-python",
   "name": "python",
   "nbconvert_exporter": "python",
   "pygments_lexer": "ipython3",
   "version": "3.8.5"
  }
 },
 "nbformat": 4,
 "nbformat_minor": 4
}
